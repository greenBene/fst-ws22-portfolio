{
 "cells": [
  {
   "cell_type": "code",
   "execution_count": 2,
   "metadata": {},
   "outputs": [],
   "source": [
    "from github import Github\n",
    "import re\n",
    "import pandas as pd\n",
    "import matplotlib\n",
    "from scipy.stats import pearsonr, spearmanr"
   ]
  },
  {
   "cell_type": "code",
   "execution_count": null,
   "metadata": {},
   "outputs": [],
   "source": [
    "token = ''\n",
    "input_file = 'boa-job103328-output.txt'\n",
    "\n",
    "g = Github(token)"
   ]
  },
  {
   "cell_type": "code",
   "execution_count": null,
   "metadata": {},
   "outputs": [],
   "source": [
    "def get_startgazer_count_from_github(id:str):\n",
    "    print(f\"id: {id}\")\n",
    "    try:\n",
    "        repo = g.get_repo(id)\n",
    "        return repo.stargazers_count\n",
    "    except Exception as e:\n",
    "        print(e)\n",
    "        return -1\n",
    "\n",
    "def get_entry_from_boa_line(line:str):\n",
    "    x = re.search(\"metrics\\[(https://github.com/(.*)\\.git)\\] = (.*):(.*):(.*):(.*)\\n\", line)\n",
    "    url = x.group(1)\n",
    "    id = x.group(2)\n",
    "    methods_name = x.group(3)\n",
    "    methods_count = x.group(4)\n",
    "    statements_name =  x.group(5)\n",
    "    statements_count = x.group(6)\n",
    "    return (url, id, methods_name, methods_count, statements_name, statements_count)"
   ]
  },
  {
   "attachments": {},
   "cell_type": "markdown",
   "metadata": {},
   "source": [
    "## Import and Parse Data"
   ]
  },
  {
   "cell_type": "code",
   "execution_count": null,
   "metadata": {},
   "outputs": [],
   "source": [
    "with open(input_file) as f:\n",
    "    lines = f.readlines()\n",
    "\n",
    "entries = list()\n",
    "for line in lines:\n",
    "    entry = get_entry_from_boa_line(line)\n",
    "    entries.append(entry)\n",
    "\n",
    "input_raw = pd.DataFrame(entries, columns=[\"url\", \"id\", \"method_file_name\", \"method_count_max\", \"statement_file_name\", \"statement_count_max\"])"
   ]
  },
  {
   "cell_type": "code",
   "execution_count": null,
   "metadata": {},
   "outputs": [],
   "source": [
    "input_raw[\"method_count_max\"] = input_raw[\"method_count_max\"].astype(int)\n",
    "input_raw[\"statement_count_max\"] = input_raw[\"statement_count_max\"].astype(int)\n",
    "\n",
    "# Clean out all entries where neither method nor statements could be counted\n",
    "input_no_nulls = input_raw.query(\"method_count_max > 0 & statement_count_max > 0\")\n",
    "\n",
    "input_no_nulls.sort_values(by=[\"statement_count_max\"])"
   ]
  },
  {
   "cell_type": "code",
   "execution_count": null,
   "metadata": {},
   "outputs": [],
   "source": [
    "print(len(input_raw),len(input_no_nulls))"
   ]
  },
  {
   "attachments": {},
   "cell_type": "markdown",
   "metadata": {},
   "source": [
    "## Input Data Analisis"
   ]
  },
  {
   "attachments": {},
   "cell_type": "markdown",
   "metadata": {},
   "source": [
    "## Load Stargazer Count"
   ]
  },
  {
   "cell_type": "code",
   "execution_count": 3,
   "metadata": {},
   "outputs": [],
   "source": [
    "# df = input_no_nulls.sample(4500)\n",
    "# df['stargazer_count'] = df.apply(lambda row: get_startgazer_count_from_github(row['id']), axis = 1)\n",
    "# df.to_pickle(\"dataset_with_stargazers_2\")\n",
    "\n",
    "df = pd.read_pickle(\"./dataset_with_stargazers\")"
   ]
  },
  {
   "attachments": {},
   "cell_type": "markdown",
   "metadata": {},
   "source": [
    "## Filter out non projects via stargazer count"
   ]
  },
  {
   "cell_type": "code",
   "execution_count": 4,
   "metadata": {},
   "outputs": [],
   "source": [
    "test = df[[\"id\", \"method_count_max\", \"statement_count_max\", \"stargazer_count\"]]\n",
    "test = test[test[\"stargazer_count\"] >= 10]"
   ]
  },
  {
   "cell_type": "code",
   "execution_count": 15,
   "metadata": {},
   "outputs": [
    {
     "data": {
      "text/html": [
       "<div>\n",
       "<style scoped>\n",
       "    .dataframe tbody tr th:only-of-type {\n",
       "        vertical-align: middle;\n",
       "    }\n",
       "\n",
       "    .dataframe tbody tr th {\n",
       "        vertical-align: top;\n",
       "    }\n",
       "\n",
       "    .dataframe thead th {\n",
       "        text-align: right;\n",
       "    }\n",
       "</style>\n",
       "<table border=\"1\" class=\"dataframe\">\n",
       "  <thead>\n",
       "    <tr style=\"text-align: right;\">\n",
       "      <th></th>\n",
       "      <th>id</th>\n",
       "      <th>method_count_max</th>\n",
       "      <th>statement_count_max</th>\n",
       "      <th>stargazer_count</th>\n",
       "    </tr>\n",
       "  </thead>\n",
       "  <tbody>\n",
       "    <tr>\n",
       "      <th>24129</th>\n",
       "      <td>lukeholder/craft-editor</td>\n",
       "      <td>1</td>\n",
       "      <td>3</td>\n",
       "      <td>16</td>\n",
       "    </tr>\n",
       "    <tr>\n",
       "      <th>34311</th>\n",
       "      <td>tglman/orientdb-c</td>\n",
       "      <td>1</td>\n",
       "      <td>28</td>\n",
       "      <td>41</td>\n",
       "    </tr>\n",
       "    <tr>\n",
       "      <th>21766</th>\n",
       "      <td>jyaganeh/android-google-maps-demo</td>\n",
       "      <td>1</td>\n",
       "      <td>5</td>\n",
       "      <td>10</td>\n",
       "    </tr>\n",
       "    <tr>\n",
       "      <th>6449</th>\n",
       "      <td>StylingAndroid/Spans</td>\n",
       "      <td>1</td>\n",
       "      <td>13</td>\n",
       "      <td>10</td>\n",
       "    </tr>\n",
       "    <tr>\n",
       "      <th>2504</th>\n",
       "      <td>FuseByExample/external-mq-fabric-client</td>\n",
       "      <td>1</td>\n",
       "      <td>43</td>\n",
       "      <td>11</td>\n",
       "    </tr>\n",
       "    <tr>\n",
       "      <th>...</th>\n",
       "      <td>...</td>\n",
       "      <td>...</td>\n",
       "      <td>...</td>\n",
       "      <td>...</td>\n",
       "    </tr>\n",
       "    <tr>\n",
       "      <th>12570</th>\n",
       "      <td>codefollower/Lealone</td>\n",
       "      <td>238</td>\n",
       "      <td>5097</td>\n",
       "      <td>2180</td>\n",
       "    </tr>\n",
       "    <tr>\n",
       "      <th>15841</th>\n",
       "      <td>evernote/evernote-sdk-java</td>\n",
       "      <td>264</td>\n",
       "      <td>2377</td>\n",
       "      <td>257</td>\n",
       "    </tr>\n",
       "    <tr>\n",
       "      <th>32890</th>\n",
       "      <td>societies/SOCIETIES-Platform</td>\n",
       "      <td>272</td>\n",
       "      <td>2090</td>\n",
       "      <td>24</td>\n",
       "    </tr>\n",
       "    <tr>\n",
       "      <th>20804</th>\n",
       "      <td>jjzazuet/seeds-libraries</td>\n",
       "      <td>429</td>\n",
       "      <td>2068</td>\n",
       "      <td>34</td>\n",
       "    </tr>\n",
       "    <tr>\n",
       "      <th>12581</th>\n",
       "      <td>codelibs/fess</td>\n",
       "      <td>477</td>\n",
       "      <td>994</td>\n",
       "      <td>713</td>\n",
       "    </tr>\n",
       "  </tbody>\n",
       "</table>\n",
       "<p>250 rows × 4 columns</p>\n",
       "</div>"
      ],
      "text/plain": [
       "                                            id  method_count_max  \\\n",
       "24129                  lukeholder/craft-editor                 1   \n",
       "34311                        tglman/orientdb-c                 1   \n",
       "21766        jyaganeh/android-google-maps-demo                 1   \n",
       "6449                      StylingAndroid/Spans                 1   \n",
       "2504   FuseByExample/external-mq-fabric-client                 1   \n",
       "...                                        ...               ...   \n",
       "12570                     codefollower/Lealone               238   \n",
       "15841               evernote/evernote-sdk-java               264   \n",
       "32890             societies/SOCIETIES-Platform               272   \n",
       "20804                 jjzazuet/seeds-libraries               429   \n",
       "12581                            codelibs/fess               477   \n",
       "\n",
       "       statement_count_max  stargazer_count  \n",
       "24129                    3               16  \n",
       "34311                   28               41  \n",
       "21766                    5               10  \n",
       "6449                    13               10  \n",
       "2504                    43               11  \n",
       "...                    ...              ...  \n",
       "12570                 5097             2180  \n",
       "15841                 2377              257  \n",
       "32890                 2090               24  \n",
       "20804                 2068               34  \n",
       "12581                  994              713  \n",
       "\n",
       "[250 rows x 4 columns]"
      ]
     },
     "execution_count": 15,
     "metadata": {},
     "output_type": "execute_result"
    }
   ],
   "source": [
    "\n",
    "test.sort_values(by=\"method_count_max\")"
   ]
  },
  {
   "attachments": {},
   "cell_type": "markdown",
   "metadata": {},
   "source": [
    "## Analysis"
   ]
  },
  {
   "cell_type": "code",
   "execution_count": 8,
   "metadata": {},
   "outputs": [
    {
     "name": "stdout",
     "output_type": "stream",
     "text": [
      "General statistics\n",
      "sample: 4500, with stars count: 3458, Software Projects: 250\n",
      "Sample Size 250\n",
      "#stargazers  mean: 145.0, min: 10, max: 6076, std: 514.7423576694621\n",
      "method_count_max  mean: 44.6, min: 1, max: 477, std: 59.55585276354939\n",
      "statement_count_max  mean: 419.056, min: 3, max: 8709, std: 780.6195284881285\n"
     ]
    },
    {
     "data": {
      "text/plain": [
       "<Axes: >"
      ]
     },
     "execution_count": 8,
     "metadata": {},
     "output_type": "execute_result"
    }
   ],
   "source": [
    "print(\"General statistics\")\n",
    "print(f\"sample: {len(df)}, with stars count: {len(df[df['stargazer_count'] >= 0])}, Software Projects: {len(test)}\")\n",
    "print(f\"Sample Size {len(test)}\")\n",
    "print(f\"#stargazers  mean: {test['stargazer_count'].mean()}, min: {test['stargazer_count'].min()}, max: {test['stargazer_count'].max()}, std: {test['stargazer_count'].std() }\")\n",
    "print(f\"method_count_max  mean: {test['method_count_max'].mean()}, min: {test['method_count_max'].min()}, max: {test['method_count_max'].max()}, std: {test['method_count_max'].std() }\")\n",
    "print(f\"statement_count_max  mean: {test['statement_count_max'].mean()}, min: {test['statement_count_max'].min()}, max: {test['statement_count_max'].max()}, std: {test['statement_count_max'].std() }\")\n",
    "\n",
    "test.boxplot(column=['stargazer_count'])"
   ]
  },
  {
   "cell_type": "code",
   "execution_count": 29,
   "metadata": {},
   "outputs": [
    {
     "data": {
      "text/plain": [
       "<Axes: >"
      ]
     },
     "execution_count": 29,
     "metadata": {},
     "output_type": "execute_result"
    },
    {
     "data": {
      "image/png": "[encoded data removed]",
      "text/plain": [
       "<Figure size 640x480 with 1 Axes>"
      ]
     },
     "metadata": {},
     "output_type": "display_data"
    }
   ],
   "source": [
    "test.boxplot(column=['method_count_max'])"
   ]
  },
  {
   "cell_type": "code",
   "execution_count": 30,
   "metadata": {},
   "outputs": [
    {
     "data": {
      "text/plain": [
       "<Axes: >"
      ]
     },
     "execution_count": 30,
     "metadata": {},
     "output_type": "execute_result"
    },
    {
     "data": {
      "image/png": "[encoded data removed]",
      "text/plain": [
       "<Figure size 640x480 with 1 Axes>"
      ]
     },
     "metadata": {},
     "output_type": "display_data"
    }
   ],
   "source": [
    "test.boxplot(column=['statement_count_max'])"
   ]
  },
  {
   "cell_type": "code",
   "execution_count": 23,
   "metadata": {},
   "outputs": [
    {
     "name": "stdout",
     "output_type": "stream",
     "text": [
      "\n",
      "Analysis method_count_max\n",
      "PearsonRResult(statistic=0.2810555366181144, pvalue=6.394591796196751e-06)\n",
      "SignificanceResult(statistic=0.26547508217113724, pvalue=2.1087261321021967e-05)\n",
      "\n",
      "Analysis statement_count_max\n",
      "PearsonRResult(statistic=0.1955528797338218, pvalue=0.0018930714955898197)\n",
      "SignificanceResult(statistic=0.2107636815700245, pvalue=0.0007979222954544701)\n"
     ]
    },
    {
     "data": {
      "text/plain": [
       "<Axes: xlabel='stargazer_count', ylabel='statement_count_max'>"
      ]
     },
     "execution_count": 23,
     "metadata": {},
     "output_type": "execute_result"
    },
    {
     "data": {
      "image/png": "[encoded data removed]",
      "text/plain": [
       "<Figure size 640x480 with 1 Axes>"
      ]
     },
     "metadata": {},
     "output_type": "display_data"
    },
    {
     "data": {
      "image/png": "[encoded data removed]",
      "text/plain": [
       "<Figure size 640x480 with 1 Axes>"
      ]
     },
     "metadata": {},
     "output_type": "display_data"
    }
   ],
   "source": [
    "print(\"\\nAnalysis method_count_max\")\n",
    "print(pearsonr(test['method_count_max'], test['stargazer_count']))\n",
    "print(spearmanr(test['method_count_max'], test['stargazer_count']))\n",
    "print(\"\\nAnalysis statement_count_max\")\n",
    "print(pearsonr(test['statement_count_max'], test['stargazer_count']))\n",
    "print(spearmanr(test['statement_count_max'], test['stargazer_count']))\n",
    "\n",
    "test.plot.scatter(x=\"stargazer_count\", y=\"method_count_max\")\n",
    "test.plot.scatter(x=\"stargazer_count\", y=\"statement_count_max\")"
   ]
  }
 ],
 "metadata": {
  "kernelspec": {
   "display_name": ".env",
   "language": "python",
   "name": "python3"
  },
  "language_info": {
   "codemirror_mode": {
    "name": "ipython",
    "version": 3
   },
   "file_extension": ".py",
   "mimetype": "text/x-python",
   "name": "python",
   "nbconvert_exporter": "python",
   "pygments_lexer": "ipython3",
   "version": "3.10.8"
  },
  "orig_nbformat": 4,
  "vscode": {
   "interpreter": {
    "hash": "99623a726e4e3aa50ec0756ad0443a1beddfd173a8066bb6fcf1271afd836c23"
   }
  }
 },
 "nbformat": 4,
 "nbformat_minor": 2
}
